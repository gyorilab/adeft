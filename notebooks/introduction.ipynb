{
 "cells": [
  {
   "cell_type": "markdown",
   "metadata": {},
   "source": [
    "# Adeft\n",
    "\n",
    "Adeft (Acromine based Disambiguation of Entities From Text) is a utility for building models to disambiguate acronyms and other abbreviations of biological terms mentioned in the scientific literature. It uses an implementation of the [Acromine](http://www.chokkan.org/research/acromine/) algorithm developed by [NaCTeM](http://www.nactem.ac.uk/index.php) at the University of Manchester to identify possible longform expansions for shortforms in text corpora. Adeft allows a user to build models to disambiguate shortforms in literature based on the context in which they appear. A growing number of pretrained disambiguation models for shortforms in the biomedical literature are available for download through Adeft."
   ]
  },
  {
   "cell_type": "markdown",
   "metadata": {},
   "source": [
    "## Installation\n",
    "\n",
    "Adeft is available on PyPI and works with Python versions 3.5 and above. It can be installed with the command\n",
    "```bash\n",
    "$ pip install adeft\n",
    "```\n",
    "\n",
    "Pretrained disambiguation models can be downloaded with the command\n",
    "```bash\n",
    "$ python -m adeft.download\n",
    "```\n",
    "\n",
    "By default, models will be stored in a folder named ``adeft`` within a platform specific user data location determined by the [appdirs](https://pypi.org/project/appdirs/) Python package. Users may set the environment variable `ADEFT_HOME` in their shell profile to choose an alternative location."
   ]
  },
  {
   "cell_type": "markdown",
   "metadata": {},
   "source": [
    "## Loading pretrained models\n",
    "\n",
    "After downloading existing models, a dictionary listing shortforms with available models can be inspected as follows:\n"
   ]
  },
  {
   "cell_type": "code",
   "execution_count": 1,
   "metadata": {},
   "outputs": [
    {
     "name": "stdout",
     "output_type": "stream",
     "text": [
      "{'HA': 'HA', 'RT': 'RT:RT_S', 'RTs': 'RT:RT_S', 'APC': 'APC:APC_S', 'APCs': 'APC:APC_S', 'GH': 'GH', 'BRK': 'BRK', 'SG': 'SG:SG_S', 'SGs': 'SG:SG_S', 'CHK': 'CHK', 'SPD': 'SPD', 'PC': 'PC', 'AST': 'AST', 'EAG': 'EAG', 'SNS': 'SNS', 'HR': 'HR', 'NOP': 'NOP', 'GT': 'GT', 'TLR': 'TLR', 'CF': 'CF', 'PET': 'PET', 'HEP': 'HEP', 'ERM': 'ERM', 'FES': 'FES', 'PI': 'PI', 'TG': 'TG', 'ER': 'ER', 'HK1': 'HK1', 'MB': 'MB', 'NE': 'NE', 'SLK': 'SLK', 'GARP': 'GARP', 'EMT': 'EMT', 'AHR': 'AHR', 'TIF': 'TIF', 'HC': 'HC:HC_S', 'HCs': 'HC:HC_S', 'SD': 'SD:SD_S', 'SDs': 'SD:SD_S', 'FP': 'FP:FP_S', 'FPs': 'FP:FP_S', 'FMS': 'FMS', 'RD': 'RD', 'PAMP': 'PAMP', 'ARG': 'ARG', 'LAB': 'LAB', 'PM': 'PM:PM_S', 'PMs': 'PM:PM_S', 'TAK': 'TAK', 'ODC': 'ODC', 'GAS': 'GAS', 'TGH': 'TGH', 'BP': 'BP', 'PR': 'PR', 'HK2': 'HK2', 'PAF': 'PAF', 'COT': 'COT', 'SN': 'SN', 'LH': 'LH', 'BAL': 'BAL', 'PRK': 'PRK', 'AD': 'AD', 'NP': 'NP:NP_S', 'NPs': 'NP:NP_S', 'RSE': 'RSE', 'RPE': 'RPE', 'MS': 'MS', 'ARF': 'ARF', 'RB': 'RB:R_B', 'Rb': 'RB:R_B', 'MAC': 'MAC', 'EC': 'EC', 'NIS': 'NIS', 'LAK': 'LAK', 'AC': 'AC', 'TF': 'TF', 'MM': 'MM', 'ALK': 'ALK', 'IR': 'IR', 'TM': 'TM', 'PAH': 'PAH:PAH_S', 'PAHs': 'PAH:PAH_S', 'PKL': 'PKL', 'FPS': 'FPS', 'CK': 'CK:CK_S', 'CKs': 'CK:CK_S', 'AP1': 'AP1', 'UBC': 'UBC', 'RAS': 'RAS', 'RET': 'RET', 'GR': 'GR', 'AR': 'AR', 'SERS': 'SERS', 'CLS': 'CLS', 'MCT': 'MCT', 'DC': 'DC:DC_S', 'DCs': 'DC:DC_S', 'SAK': 'SAK', 'ZAP': 'ZAP', 'TS': 'TS', 'MV': 'MV', 'GCA': 'GCA', 'MIP': 'MIP', 'PKD': 'PKD', 'STD': 'STD', 'CS': 'CS', 'EPA': 'EPA', 'PE': 'PE', 'CLK': 'CLK', 'NS': 'NS', 'ASM': 'ASM', 'TEC': 'TEC:TEC_S', 'TECs': 'TEC:TEC_S', 'CIR': 'CIR', 'RA': 'RA', 'FGR': 'FGR', 'ROS': 'ROS', 'Lu': 'L_U', 'DA': 'DA', 'RAC': 'RAC', 'OCR': 'OCR', 'CPAP': 'CPAP', 'EK': 'EK', 'MHC': 'MHC', 'RTCA': 'RTCA', 'GL': 'GL', 'PA': 'PA', 'CM': 'CM', 'OA': 'OA', 'GSC': 'GSC:GSC_S', 'GSCs': 'GSC:GSC_S', 'CPE': 'CPE', 'AE': 'AE:AE_S', 'AEs': 'AE:AE_S', 'SPF': 'SPF', 'FRAP': 'FRAP', 'MSC': 'MSC:MSC_S', 'MSCs': 'MSC:MSC_S', 'TR': 'TR', 'MOS': 'MOS', 'DLK': 'DLK', 'CNS': 'CNS', 'AA': 'AA', 'AVP': 'AVP', 'MT': 'MT', 'DOG1': 'DOG1', 'PS': 'PS', 'FER': 'FER', 'PBT': 'PBT', 'BCR': 'BCR', 'PP': 'PP:PP_S', 'PPs': 'PP:PP_S', 'IBD': 'IBD', 'RK': 'RK', 'SP': 'SP', 'AF': 'AF', 'TEK': 'TEK', 'UFO': 'UFO', 'PCP': 'PCP', 'PCS': 'PCS', 'DSS': 'DSS', 'HIR': 'HIR', 'CAP': 'CAP:CAP_S', 'CAPs': 'CAP:CAP_S', 'HF': 'HF', 'PGP': 'PGP:PGP_S', 'PGPs': 'PGP:PGP_S', 'PD1': 'PD1', 'IRR': 'IRR', 'ACE': 'ACE', 'GC': 'GC', 'FIP': 'FIP'}\n"
     ]
    }
   ],
   "source": [
    "from adeft import available_shortforms\n",
    "\n",
    "print(available_shortforms)"
   ]
  },
  {
   "cell_type": "markdown",
   "metadata": {},
   "source": [
    "The dictionary maps shortforms to model names. It is possible and often desirable for synonymous shortforms to share a model: for example, NP and NPs (often standing for nanoparticles) use the same model."
   ]
  },
  {
   "cell_type": "code",
   "execution_count": 2,
   "metadata": {},
   "outputs": [
    {
     "name": "stdout",
     "output_type": "stream",
     "text": [
      "NP can be disambiguated with the model NP:NP_S\n",
      "NPs can be disambiguated with the model NP:NP_S\n"
     ]
    }
   ],
   "source": [
    "print('NP can be disambiguated with the model %s' % available_shortforms['NP'])\n",
    "print('NPs can be disambiguated with the model %s' % available_shortforms['NPs'])"
   ]
  },
  {
   "cell_type": "markdown",
   "metadata": {},
   "source": [
    "A pretrained disambiguator can be loaded using the ``load_disambiguator`` function, which returns an instance of the ``AdeftDisambiguator`` class:"
   ]
  },
  {
   "cell_type": "code",
   "execution_count": 3,
   "metadata": {},
   "outputs": [],
   "source": [
    "from adeft.disambiguate import load_disambiguator\n",
    "\n",
    "ir = load_disambiguator('IR')"
   ]
  },
  {
   "cell_type": "markdown",
   "metadata": {},
   "source": [
    "``AdeftDisambiguator`` has a method, ``info``, that produces a summary of relevant information. Users can see the disambiguations a model can produce, the class balance of labels in the models training data, and metrics describing the models crossvalidated performance on the training data. Depending on how the model was trained, classification metrics may or may not be available."
   ]
  },
  {
   "cell_type": "code",
   "execution_count": 4,
   "metadata": {},
   "outputs": [
    {
     "name": "stdout",
     "output_type": "stream",
     "text": [
      "Disambiguation model for IR\n",
      "\n",
      "Produces the disambiguations:\n",
      "\tINSR*\tHGNC:6091\n",
      "\tIle-Arg*\tCHEBI:CHEBI:74061\n",
      "\tInfrared Rays*\tMESH:D007259\n",
      "\tInsulin Resistance*\tMESH:D007333\n",
      "\tInterneurons*\tMESH:D007395\n",
      "\tMDAMB468*\tEFO:0001216\n",
      "\tREN*\tHGNC:9958\n",
      "\tRadiation, Ionizing*\tMESH:D011839\n",
      "\tReperfusion Injury*\tMESH:D015427\n",
      "\tRetina*\tMESH:D012160\n",
      "\tRhinitis*\tMESH:D012220\n",
      "\tWounds and Injuries*\tMESH:D014947\n",
      "\tretinal ischemia*\tDOID:DOID:12510\n",
      "\troot structure\tEFO:0000989\n",
      "\n",
      "Class level metrics:\n",
      "--------------------\n",
      "Grounding          \tCount\tF1     \n",
      "Radiation, Ionizing*\t3296\t0.98324\n",
      " Insulin Resistance*\t1894\t0.95075\n",
      "               INSR*\t1512\t0.92161\n",
      " Reperfusion Injury*\t1193\t0.94338\n",
      "         Ungrounded\t 784\t0.85292\n",
      "      Infrared Rays*\t 304\t0.87597\n",
      "Wounds and Injuries*\t  34\t    0.0\n",
      "            Ile-Arg*\t   5\t    0.2\n",
      "           Rhinitis*\t   4\t    0.6\n",
      "                REN*\t   3\t    0.2\n",
      "             Retina*\t   2\t    0.0\n",
      "     root structure\t   1\t    0.0\n",
      "       Interneurons*\t   1\t    0.0\n",
      "           MDAMB468*\t   1\t    0.0\n",
      "   retinal ischemia*\t   1\t    0.0\n",
      "\n",
      "Global Metrics:\n",
      "-----------------\n",
      "\tF1 score:\t0.9509\n",
      "\tPrecision:\t0.95102\n",
      "\tRecall:\t\t0.95079\n",
      "\n",
      "* Positive labels\n",
      "See Docstring for explanation\n",
      "\n"
     ]
    }
   ],
   "source": [
    "print(ir.info())"
   ]
  },
  {
   "cell_type": "markdown",
   "metadata": {},
   "source": [
    "The labels that appear appended with a star are the *positive labels* for calculating the classification metrics. For cases where there are multiple positive labels, Adeft takes the weighted average of these metrics for each positive label weighted by the frequency of each label in the test data to calculate the precision, recall, and F1 scores."
   ]
  },
  {
   "cell_type": "markdown",
   "metadata": {},
   "source": [
    "## Disambiguation\n",
    "\n",
    "To disambiguate an instance of an entity shortform, Adeft first searches the provided text for *defining patterns* (DPs) that explicitly define the shortform. A defining pattern (DP) consists of a longform followed by its shortform contained in parentheses. For example the preceding two sentences contain defining patterns for `DP` and `DPs`.\n",
    "\n",
    "In the example below, the given text contains a defining pattern for the entity shortform `IR`, making disambiguation straightforward:"
   ]
  },
  {
   "cell_type": "code",
   "execution_count": 5,
   "metadata": {},
   "outputs": [
    {
     "data": {
      "text/plain": [
       "('MESH:D011839',\n",
       " 'Radiation, Ionizing',\n",
       " {'MESH:D007333': 0.0,\n",
       "  'MESH:D015427': 0.0,\n",
       "  'MESH:D012160': 0.0,\n",
       "  'EFO:0001216': 0.0,\n",
       "  'MESH:D012220': 0.0,\n",
       "  'HGNC:6091': 0.0,\n",
       "  'ungrounded': 0.0,\n",
       "  'MESH:D014947': 0.0,\n",
       "  'MESH:D007259': 0.0,\n",
       "  'DOID:DOID:12510': 0.0,\n",
       "  'MESH:D007395': 0.0,\n",
       "  'HGNC:9958': 0.0,\n",
       "  'CHEBI:CHEBI:74061': 0.0,\n",
       "  'MESH:D011839': 1.0,\n",
       "  'EFO:0000989': 0.0})"
      ]
     },
     "execution_count": 5,
     "metadata": {},
     "output_type": "execute_result"
    }
   ],
   "source": [
    "example1 = ('Ionizing radiation (IR) is radiation that carries enough energy to detach electrons'\n",
    "            ' from atoms or molecules, thereby ionizing them.')\n",
    "\n",
    "ir.disambiguate(example1)"
   ]
  },
  {
   "cell_type": "markdown",
   "metadata": {},
   "source": [
    "The `disambiguate` method returns a tuple containing three elements: 1) the normalized grounding for the entity, formatted as a namespace and ID separated by a colon, 2) a standard name for the grounding, and 3) a dictionary mapping possible groundings to confidence scores. Since a defining pattern exists in this instance, Adeft has 100% confidence.\n",
    "\n",
    "### Namespaces\n",
    "Currently available Adeft models ground shortforms to the following namespaces:\n",
    "* [Hugo Gene Nomenclature](https://www.genenames.org/) (HGNC)\n",
    "* [FamPlex](https://github.com/sorgerlab/famplex) (FPLX)\n",
    "* [Gene Ontology](https://geneontology.org/) (GO)\n",
    "* [Medical Subject Headings](https://id.nlm.nih.gov/mesh/) (MESH)\n",
    "* [Chemical Entities of Biological Interest](https://www.ebi.ac.uk/chebi/) (CHEBI)\n",
    "* [NCIThesaurus](https://ncithesaurus.nci.nih.gov/ncitbrowser/) (NCIT)\n",
    "* [Uniprot](https://www.uniprot.org/) (UP)\n",
    "* [Interpro](https://www.ebi.ac.uk/interpro/) (IP)\n",
    "\n",
    "and more.\n",
    "\n",
    "The 'ungrounded' class refers to the group of entities for which Adeft recognizes a defining pattern but for which the model has no specific grounding."
   ]
  },
  {
   "cell_type": "markdown",
   "metadata": {},
   "source": [
    "### Classification models\n",
    "\n",
    "Adeft uses logistic regression models to disambiguate shortforms in texts where it is unable to find a defining pattern."
   ]
  },
  {
   "cell_type": "code",
   "execution_count": 6,
   "metadata": {},
   "outputs": [
    {
     "data": {
      "text/plain": [
       "('MESH:D011839',\n",
       " 'Radiation, Ionizing',\n",
       " {'CHEBI:CHEBI:74061': 0.0029106450442963733,\n",
       "  'DOID:DOID:12510': 0.002714648506140114,\n",
       "  'EFO:0000989': 0.002790792571999619,\n",
       "  'EFO:0001216': 0.002753434628070166,\n",
       "  'HGNC:6091': 0.014643292414418663,\n",
       "  'HGNC:9958': 0.002875775266350069,\n",
       "  'MESH:D007259': 0.012579601284319343,\n",
       "  'MESH:D007333': 0.006525654716170285,\n",
       "  'MESH:D007395': 0.002674687838200803,\n",
       "  'MESH:D011839': 0.8351663813237419,\n",
       "  'MESH:D012160': 0.0028453280753981272,\n",
       "  'MESH:D012220': 0.0028269596663538198,\n",
       "  'MESH:D014947': 0.0020090024116930397,\n",
       "  'MESH:D015427': 0.04777629432741509,\n",
       "  'ungrounded': 0.058907501925432655})"
      ]
     },
     "execution_count": 6,
     "metadata": {},
     "output_type": "execute_result"
    }
   ],
   "source": [
    "example2 = ('The detrimental effects of IR involve a highly orchestrated series of'\n",
    "            ' events that are amplified by endogenous signaling and culminating in'\n",
    "            ' oxidative damage to DNA, lipids, proteins, and many metabolites.')\n",
    "\n",
    "ir.disambiguate(example2)"
   ]
  },
  {
   "cell_type": "markdown",
   "metadata": {},
   "source": [
    "Adeft returns the correct grounding for this example. Though this example uses a single sentence as text context, models are trained to disambiguate entities based on abstracts and fulltexts. In practice we have found that taking the concatenation of all paragraphs containing the shortform of interest within a fulltext gives the best performance. We now try to disambiguate based on an entire abstract:"
   ]
  },
  {
   "cell_type": "code",
   "execution_count": 7,
   "metadata": {},
   "outputs": [],
   "source": [
    "with open('data/example.txt') as f:\n",
    "    example3 = f.read()"
   ]
  },
  {
   "cell_type": "code",
   "execution_count": 8,
   "metadata": {},
   "outputs": [
    {
     "name": "stdout",
     "output_type": "stream",
     "text": [
      "Rates of diabetes are reaching epidemic levels. The key problem in both type 1 and type 2 diabetes is dysfunctional insulin signaling, either due to lack of production or due to impaired insulin sensitivity. A key feature of diabetic retinopathy in animal models is degenerate capillary formation. The goal of this present study was to investigate a potential mechanism for retinal endothelial cell apoptosis in response to hyperglycemia. The hypothesis was that hyperglycemia-induced TNFα leads to retinal endothelial cell apoptosis through inhibition of insulin signaling. To test the hypothesis, primary human retinal endothelial cells were grown in normal glucose (5 mM) or high glucose (25 mM) and treated with exogenous TNFα, TNFα siRNA or suppressor of cytokine signaling 3 (SOCS3) siRNA. Cell lysates were processed for Western blotting and ELISA analyses to verify TNFα and SOCS3 knockdown, as well as key pro- and anti-apoptotic factors, IRS-1, and Akt. Data indicate that high glucose culturing conditions significantly increase TNFα and SOCS3 protein levels. Knockdown of TNFα and SOCS3 significantly increases anti-apoptotic proteins, while decreasing pro-apoptotic proteins. Knockdown of TNFα leads to decreased phosphorylation of IRS-1 Ser307 , which would promote normal insulin signaling. Knockdown of SOCS3 increased total IRS-1 levels, as well as decreased IR Tyr960 , both of which would inhibit retinal endothelial cell apoptosis through increased insulin signaling. Taken together, our findings suggest that increased TNFα inhibits insulin signaling in 2 ways: 1) increased phosphorylation of IRS-1 Ser307 , 2) increased SOCS3 levels to decrease total IRS-1 and increase IR Tyr960 , both of which block normal insulin signal transduction. Resolution of the hyperglycemia-induced TNFα levels in retinal endothelial cells may prevent apoptosis through disinhibition of insulin receptor signaling.\n",
      "Based upon on our hypothesis, increased TNFα levels observed in response to high glucose should increase SOCS3 levels, such that either TNFα or high glucose treatment leads to the increased SOCS3 protein levels observed in  Fig. 1A  (* P <0.05 vs. NG not-treated), which is eliminated when cells are treated with TNFα siRNA ( Fig. 1C , # P <0.05 vs. HG NT). SOCS3 has been reported to lead to increased phosphorylation of insulin receptor on tyrosine 960, which eliminates insulin receptor/IRS-1 binding in hepatoma cells [ 28 ]; therefore one would expect increased SOCS3 levels and increased phosphorylation of insulin receptor on tyrosine 960 compared to untreated high glucose treated retinal endothelial cells. This response should be eliminated when TNFα siRNA is applied to REC cultured in high glucose, suggesting this is a TNFα-mediated event. Indeed, treatment with TNFα increased IR Tyr960  phosphorylation, which was reduced when TNFα is knocked down ( Fig. 1D , # P <0.05 vs. HG scsiRNA).\n",
      "While increased SOCS3/IR Tyr960  is one pathway by which TNFα may induce insulin resistance and REC apoptosis [ 28 ], TNFα can also increase serine 307 phosphorylation on IRS-1 to insulin receptor signaling, eliminating Akt activation [ 20 ]. Data in the REC treated with high glucose and TNFα show increased IRS-1 Ser307  ( Fig. 2 , * P <0.05 vs. NG NT), while cells treated with TNFα siRNA have significantly reduced IRS-1 Ser307  levels ( Fig. 2 , # P <0.05 vs. HG NT and HG TNFα).\n",
      "Since both increased IRS-1 Ser307  or increased SOCS3/IR Tyr960  levels can induce insulin resistance, leading to cell death, we measured cell death proteins (caspase 3, cytochrome c, Bax) and cell survival proteins (Akt, Bcl-xL) in REC treated in normal and high glucose alone and following TNFα siRNA application. Analyses of all key cell death/survival proteins suggest that knockdown of TNFα can eliminate the effects of hyperglycemia on REC ( Fig. 3 ).\n",
      "Since hyperglycemic culturing conditions increased TNFα to increase SOCS3, we used SOCS3 siRNA to determine whether SOCS3 is directly involved in the changes in total IRS-1 (leading to degradation) or insulin receptor phosphorylation on tyrosine 960 (inhibiting insulin receptor/IRS-1 binding). Data indicate that knockdown of SOCS3 leads to a significant increase in total IRS-1 levels ( Fig. 5 , # P <0.05 vs. HG scsiRNA treated REC), suggesting that SOCS3 directly regulates IRS-1 levels in REC cultured in high glucose. This is further supported by data in REC cultured in high glucose treated with SOCS3 siRNA and probed for IR Tyr960  (inhibitory site to IR/IRS-1 binding). In high glucose conditions, IR Tyr960  is increased, which would decrease insulin receptor/IRS-1 binding ( Fig. 6  * P <0.05 vs. NG) but it is inhibited after SOCS3 siRNA application ( Fig. 6 , # P <0.05 vs. HG only), suggesting that SOCS3 does inhibit IR/IRS-1 binding activities.\n",
      "While TNFα can directly inhibit insulin signaling through its phosphorylation of IRS-1 Ser307 , it also can activate the SOCS proteins [ 30 ], which can also block insulin signaling. In our work, we show that high glucose leads to increased SOCS3 levels in retinal endothelial cells. Activation of SOCS3 can lead to insulin resistance in 2 separate ways: increased insulin receptor phosphorylation on tyrosine 960 [ 42 ] or through IRS-1 degradation by proteasomes [ 29 ]. In these experiments with knockdown of SOCS3, we found that SOCS3 likely inhibits insulin signaling in both ways in retinal endothelial cells, as we found decreased IR Tyr960  phosphorylation and increased total IRS-1 levels following SOCS3 siRNA application. Taken together, these data suggest that hyperglycemia-induced TNFα increases SOCS3 levels and actions in human retinal endothelial cells, which likely contributes to increased insulin resistance and endothelial cell death.\n",
      "\n"
     ]
    }
   ],
   "source": [
    "print(example3)"
   ]
  },
  {
   "cell_type": "markdown",
   "metadata": {},
   "source": [
    "In principle this example could be challenging because the text contains references to both \"insulin receptor\" (grounding `HGNC:6901`) and \"insulin resistance\" (grounding `MESH:D007333`), but the shortform `IR` is used exclusively to refer to insulin receptor, as in these two sentences:\n",
    "\n",
    ">Activation of SOCS3 can lead to insulin resistance in 2 separate ways: increased insulin receptor phosphorylation on tyrosine 960 [ 42 ] or through IRS-1 degradation by proteasomes [ 29 ]. In these experiments with knockdown of SOCS3, we found that SOCS3 likely inhibits insulin signaling in both ways in retinal endothelial cells, as we found decreased IR Tyr960  phosphorylation and increased total IRS-1 levels following SOCS3 siRNA application.\n",
    "    \n",
    "However, the text contains sufficient context for Adeft to yield the correct disambiguation with high confidence:"
   ]
  },
  {
   "cell_type": "code",
   "execution_count": 9,
   "metadata": {},
   "outputs": [
    {
     "data": {
      "text/plain": [
       "('HGNC:6091',\n",
       " 'INSR',\n",
       " {'CHEBI:CHEBI:74061': 8.653121931414589e-06,\n",
       "  'DOID:DOID:12510': 1.0470370933297434e-05,\n",
       "  'EFO:0000989': 6.543495465754423e-06,\n",
       "  'EFO:0001216': 6.727432817661731e-06,\n",
       "  'HGNC:6091': 0.9970957622075577,\n",
       "  'HGNC:9958': 6.628812950508269e-06,\n",
       "  'MESH:D007259': 6.224876365680733e-06,\n",
       "  'MESH:D007333': 0.0002892344560520544,\n",
       "  'MESH:D007395': 6.361983101386227e-06,\n",
       "  'MESH:D011839': 2.7108083646021005e-06,\n",
       "  'MESH:D012160': 6.854179224808941e-06,\n",
       "  'MESH:D012220': 6.8208962358360116e-06,\n",
       "  'MESH:D014947': 3.936096295151697e-06,\n",
       "  'MESH:D015427': 0.00042591480328742605,\n",
       "  'ungrounded': 0.002117156459416963})"
      ]
     },
     "execution_count": 9,
     "metadata": {},
     "output_type": "execute_result"
    }
   ],
   "source": [
    "ir.disambiguate(example3)"
   ]
  },
  {
   "cell_type": "markdown",
   "metadata": {},
   "source": [
    "### Batch Disambiguation\n",
    "\n",
    "The disambiguate method can also take lists of texts as input, in which case it will return a list of disambiguation results. Disambiguating a list of texts will run slightly faster than disambiguating each text separately, though this will only be noticeable when disambiguating large batches (the example below using only three texts shows only a very small difference, as expected)."
   ]
  },
  {
   "cell_type": "code",
   "execution_count": 10,
   "metadata": {},
   "outputs": [
    {
     "name": "stdout",
     "output_type": "stream",
     "text": [
      "1.84 ms ± 81.6 µs per loop (mean ± std. dev. of 7 runs, 100 loops each)\n"
     ]
    }
   ],
   "source": [
    "%timeit -n 100 ir.disambiguate([example1, example2, example3])"
   ]
  },
  {
   "cell_type": "code",
   "execution_count": 11,
   "metadata": {},
   "outputs": [
    {
     "name": "stdout",
     "output_type": "stream",
     "text": [
      "2.69 ms ± 74 µs per loop (mean ± std. dev. of 7 runs, 100 loops each)\n"
     ]
    }
   ],
   "source": [
    "%timeit -n 100 [ir.disambiguate(text) for text in [example1, example2, example3]]"
   ]
  },
  {
   "cell_type": "markdown",
   "metadata": {},
   "source": [
    "## Conclusion\n",
    "\n",
    "We've covered how to use Adeft's pretrained disambiguation models. For information on how to build your own models please see [Model Building](model_building.ipynb)."
   ]
  }
 ],
 "metadata": {
  "kernelspec": {
   "display_name": "Python 3",
   "language": "python",
   "name": "python3"
  },
  "language_info": {
   "codemirror_mode": {
    "name": "ipython",
    "version": 3
   },
   "file_extension": ".py",
   "mimetype": "text/x-python",
   "name": "python",
   "nbconvert_exporter": "python",
   "pygments_lexer": "ipython3",
   "version": "3.8.6"
  }
 },
 "nbformat": 4,
 "nbformat_minor": 2
}
